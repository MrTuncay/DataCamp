{
 "cells": [
  {
   "cell_type": "markdown",
   "metadata": {},
   "source": [
    "# Introduction to Data Engineering"
   ]
  },
  {
   "cell_type": "markdown",
   "metadata": {},
   "source": [
    "**Course Description**\n",
    "Have you heard people talk about data engineers and wonder what it is they do? Do you know what data engineers do but you're not sure how to become one yourself? This course is the perfect introduction. It touches upon all things you need to know to streamline your data processing. This introductory course will give you enough context to start exploring the world of data engineering. It's perfect for people who work at a company with several data sources and don't have a clear idea of how to use all those data sources in a scalable way. Be the first one to introduce these techniques to your company and become the company star employee."
   ]
  },
  {
   "cell_type": "markdown",
   "metadata": {},
   "source": [
    "## 1 Introduction to Data Engineering\n",
    "\n",
    "In this first chapter, you will be exposed to the world of data engineering! Explore the differences between a data engineer and a data scientist, get an overview of the various tools data engineers use and expand your understanding of how cloud technology plays a role in data engineering."
   ]
  },
  {
   "cell_type": "markdown",
   "metadata": {},
   "source": [
    "### 1.1 Tasks of the data engineer\n",
    "The video presented several tasks of the data engineer. You saw that there are some differences between the tasks of data scientists and the tasks of data engineers.\n",
    "\n",
    "Below are three essential tasks that need to happen in a data-driven company. Can you find the one that best fits the job of a data engineer?\n",
    "\n",
    "**Answer the question**\n",
    "\n",
    "- Apply a statistical model to a large dataset to find outliers.\n",
    "- **Set up scheduled ingestion of data from the application databases to an analytical database.**\n",
    "- Come up with a database schema for an application.\n",
    "\n"
   ]
  },
  {
   "cell_type": "markdown",
   "metadata": {},
   "source": [
    "*Correct, this is very clearly the task of a data engineer.*"
   ]
  },
  {
   "cell_type": "markdown",
   "metadata": {},
   "source": [
    "### 1.2 Data engineer or data scientist?\n",
    "You now know that there's a difference between the job of the data engineer and the data scientist. Remember the definition of a data engineer:\n",
    "\n",
    "`An engineer that develops, constructs, tests, and maintains architectures such as databases and large-scale processing systems.`\n",
    "\n",
    "Now let's see if you can separate tasks for the data engineer from the data scientist's tasks.\n",
    "\n",
    "**Instructions**\n",
    "\n",
    "- Classify the tasks in the correct bucket. Is it for the data engineer or the data scientist?"
   ]
  },
  {
   "cell_type": "markdown",
   "metadata": {},
   "source": [
    "![title](01.2_data_engineering_or_data_scientist.PNG)"
   ]
  },
  {
   "cell_type": "markdown",
   "metadata": {},
   "source": [
    "*Well done! You classified all cards correctly!*"
   ]
  },
  {
   "cell_type": "markdown",
   "metadata": {},
   "source": [
    "### 1.3 Data engineering problems\n",
    "For this exercise, imagine you work in a medium-scale company that hosts an online market for pet toys. As the company is growing, there are unmistakably some technical growing pains.\n",
    "\n",
    "As the first data engineer, you observe some problems and have to decide where you're best suited to be of help.\n",
    "\n",
    "**Answer the question**\n",
    "\n",
    "**Possible Answers**\n",
    "- **Data scientists are querying the online store databases directly and slowing down the functioning of the application since it's using the same database.**\n",
    "- Harmful product recommendations are affecting the sales numbers of the online store.\n",
    "- The online store is slow because the application's database server doesn't have enough memory.\n",
    "\n"
   ]
  },
  {
   "cell_type": "markdown",
   "metadata": {},
   "source": [
    "*Correct! The data engineer should make sure there's a separate database for analytics.*"
   ]
  },
  {
   "cell_type": "markdown",
   "metadata": {},
   "source": [
    "### 1.4 Kinds of databases\n",
    "In the video, you saw that databases are an essential tool for data engineers. The data engineer's workflow often begins and ends with databases.\n",
    "\n",
    "However, databases are not always the first step. Sometimes, data has to be pulled in from external APIs or raw files. Can you identify the database in the schematics?\n",
    "\n",
    "![title](01.4_kind_of_databases.PNG)\n",
    "\n",
    "**Instructions**\n",
    "\n",
    "**Possible Answers**\n",
    "- All database nodes are on the left.\n",
    "- All nodes on the left and the analytics node on the right are databases.\n",
    "- **Accounting, Online Store, Product Catalog, and Analytics are databases.**"
   ]
  },
  {
   "cell_type": "markdown",
   "metadata": {},
   "source": [
    "*Correct! The analytics database is also a SQL database. All but the product catalog are SQL databases.*"
   ]
  },
  {
   "cell_type": "markdown",
   "metadata": {},
   "source": [
    "### 1.5 Processing tasks\n",
    "Data engineers often have to join, clean, or organize data before loading it into a destination analytics database. This is done in the data processing, or data transformation step.\n",
    "\n",
    "In the diagram, this is the intermediate step. Can you select the most correct statement about data processing?\n",
    "\n",
    "**Instructions**\n",
    "\n",
    "**Possible Answers**\n",
    "Data processing is often done on a single, very powerful machine.\n",
    "Data processing is distributed over clusters of virtual machines.\n",
    "Data processing is often very complicated because you have to manually distribute workload over several computers."
   ]
  },
  {
   "cell_type": "markdown",
   "metadata": {},
   "source": [
    "### 1.6 Processing tasks\n",
    "Data engineers often have to join, clean, or organize data before loading it into a destination analytics database. This is done in the data processing, or data transformation step.\n",
    "\n",
    "In the diagram, this is the intermediate step. Can you select the most correct statement about data processing?\n",
    "\n",
    "**Instructions**\n",
    "\n",
    "**Possible Answers** \n",
    "- Data processing is often done on a single, very powerful machine.\n",
    "- **Data processing is distributed over clusters of virtual machines.**\n",
    "- Data processing is often very complicated because you have to manually distribute workload over several computers."
   ]
  },
  {
   "cell_type": "markdown",
   "metadata": {},
   "source": [
    "*Correct! This makes it very easy to scale. If things are slowing down, assign some more virtual machines to the job.*"
   ]
  },
  {
   "cell_type": "code",
   "execution_count": null,
   "metadata": {},
   "outputs": [],
   "source": []
  }
 ],
 "metadata": {
  "kernelspec": {
   "display_name": "Python 3",
   "language": "python",
   "name": "python3"
  },
  "language_info": {
   "codemirror_mode": {
    "name": "ipython",
    "version": 3
   },
   "file_extension": ".py",
   "mimetype": "text/x-python",
   "name": "python",
   "nbconvert_exporter": "python",
   "pygments_lexer": "ipython3",
   "version": "3.7.3"
  }
 },
 "nbformat": 4,
 "nbformat_minor": 2
}
